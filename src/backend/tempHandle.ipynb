{
 "cells": [
  {
   "cell_type": "code",
   "id": "initial_id",
   "metadata": {
    "collapsed": true,
    "ExecuteTime": {
     "end_time": "2024-12-04T11:44:50.897345Z",
     "start_time": "2024-12-04T11:44:50.711588Z"
    }
   },
   "source": [
    "import glob\n",
    "import json\n",
    "import os\n",
    "\n",
    "import pandas as pd"
   ],
   "outputs": [],
   "execution_count": 2
  },
  {
   "metadata": {
    "ExecuteTime": {
     "end_time": "2024-12-04T11:45:00.673344Z",
     "start_time": "2024-12-04T11:45:00.670450Z"
    }
   },
   "cell_type": "code",
   "source": [
    "folder_mapping = {\n",
    "    \"1\": \"计算机体系结构/并行与分布计算/存储系统\",\n",
    "    \"2\": \"计算机网络\",\n",
    "    \"3\": \"网络与信息安全\",\n",
    "    \"4\": \"软件工程/系统软件/程序设计语言\",\n",
    "    \"5\": \"数据库/数据挖掘/内容检索\",\n",
    "    \"6\": \"计算机科学理论\",\n",
    "    \"7\": \"计算机图形学与多媒体\",\n",
    "    \"8\": \"人工智能\",\n",
    "    \"9\": \"人机交互与普适计算\",\n",
    "    \"10\": \"交叉/综合/新兴\",\n",
    "}"
   ],
   "id": "6e853a3bad0410c2",
   "outputs": [],
   "execution_count": 4
  },
  {
   "metadata": {},
   "cell_type": "markdown",
   "source": "<h2>生成 PaperInfoList.json 文件，该文件包含所有文件夹的嵌套结构，每个文件夹下包含所有 JSON 文件的名称和内容。</h2>",
   "id": "624c63897b2a5a8d"
  },
  {
   "metadata": {
    "ExecuteTime": {
     "end_time": "2024-11-07T15:33:23.208308Z",
     "start_time": "2024-11-07T15:33:22.791032Z"
    }
   },
   "cell_type": "code",
   "source": [
    "# 文件夹路径模板，文件夹命名为1到10\n",
    "base_folder = './paper_db'\n",
    "folders = [os.path.join(base_folder, str(i)) for i in range(1, 11)]  # 文件夹命名为1到10\n",
    "\n",
    "# 用来存储最终的嵌套结构\n",
    "result = []\n",
    "\n",
    "# 遍历每个文件夹\n",
    "for folder in folders:\n",
    "    # 获取当前文件夹中所有 JSON 文件路径\n",
    "    json_files = glob.glob(os.path.join(folder, '*.json'))\n",
    "\n",
    "    # 提取文件名（去掉路径和后缀）\n",
    "    file_names = [os.path.splitext(os.path.basename(file))[0] for file in json_files]\n",
    "\n",
    "    # 获取文件夹的名称（从映射字典中获取）\n",
    "    folder_name = os.path.basename(folder)\n",
    "    folder_label = folder_mapping.get(folder_name, folder_name)  # 如果没有映射，使用文件夹名本身\n",
    "\n",
    "    # 构建嵌套结构\n",
    "    folder_structure = {\n",
    "        'value': folder_label,  # 映射后的文件夹名称作为 value\n",
    "        'label': folder_label,  # 映射后的文件夹名称作为 label\n",
    "        'children': []  # 存储每个文件夹下的文件名\n",
    "    }\n",
    "    for file in json_files:\n",
    "        # 获取文件名（去掉路径和扩展名）\n",
    "        file_name = os.path.splitext(os.path.basename(file))[0]\n",
    "        # 读取 JSON 文件内容\n",
    "        with open(file, 'r', encoding='utf-8') as f:\n",
    "            data = json.load(f)\n",
    "            for item in data:\n",
    "                if 'venues' in item and len(item['venues']) > 0:\n",
    "                    # 有 venues 字段，说明是则把文件名作为 value，label 作为 label，构建一个新的嵌套结构，一个文件只加入一次\n",
    "                    folder_structure['children'].append({\n",
    "                        'value': file_name,  # 文件名作为 value\n",
    "                        'label': file_name  # 文件名作为 label\n",
    "                    })\n",
    "                    break\n",
    "    # 将该文件夹的结构添加到结果列表\n",
    "    result.append(folder_structure)\n",
    "\n",
    "# 将结果保存为 JSON 文件\n",
    "output_file = 'data/PaperInfoList.json'\n",
    "with open(output_file, 'w', encoding='utf-8') as f:\n",
    "    json.dump(result, f, ensure_ascii=False, indent=4)"
   ],
   "id": "951e98c287df4d51",
   "outputs": [],
   "execution_count": 13
  },
  {
   "metadata": {},
   "cell_type": "markdown",
   "source": "<h2>生成 PaperTotalList.json 文件，该文件包含所有文件夹的嵌套结构，每个文件夹下包含所有 JSON 文件的名称和内容。</h2>",
   "id": "dc1dd81467f7d1ab"
  },
  {
   "metadata": {
    "ExecuteTime": {
     "end_time": "2024-12-04T11:47:30.959094Z",
     "start_time": "2024-12-04T11:47:24.091080Z"
    }
   },
   "cell_type": "code",
   "source": [
    "# 假设文件夹的命名为1到10\n",
    "base_folder = './paper_db'\n",
    "folders = [os.path.join(base_folder, str(i)) for i in range(1, 11)]  # 文件夹命名为1到10\n",
    "\n",
    "# 用来存储所有文件夹的数据\n",
    "all_folders_data = {}\n",
    "\n",
    "# 遍历每个文件夹\n",
    "for folder_id, folder in enumerate(folders, 1):  # 1到10编号文件夹\n",
    "    # 获取当前文件夹中所有 JSON 文件路径\n",
    "    json_files = glob.glob(os.path.join(folder, '*.json'))\n",
    "\n",
    "    # 当前文件夹的数据\n",
    "    folder_data = []\n",
    "\n",
    "    # 逐个读取 JSON 文件\n",
    "    for file in json_files:\n",
    "        # 获取文件名（去掉路径和扩展名）\n",
    "        file_name = os.path.splitext(os.path.basename(file))[0]\n",
    "        # 读取 JSON 文件内容\n",
    "        with open(file, 'r', encoding='utf-8') as f:\n",
    "            data = json.load(f)\n",
    "            for item in data:\n",
    "                if 'venues' in item:\n",
    "                    # 遍历 'venues' 下的每个元素\n",
    "                    for venue in item['venues']:\n",
    "                        if 'papers' in venue:\n",
    "                            # 将 papers 转化为新的格式\n",
    "                            venue['papers'] = [{\"PaperName\": paper} for paper in venue['papers']]\n",
    "                elif 'papers' in item:\n",
    "                    # 处理没有 venues 字段的情况\n",
    "                    item['venues'] = [{\n",
    "                        \"sub_name_abbr\": \"未知\",\n",
    "                        \"sub_name\": \"未知\",\n",
    "                        \"count\": item['count'],\n",
    "                        \"papers\": [{\"PaperName\": paper} for paper in item['papers']]\n",
    "                    }]\n",
    "                    del item['papers'], item['count']\n",
    "\n",
    "            # 将文件名和文件内容作为字典添加到当前文件夹的数据中\n",
    "            folder_data.append({\n",
    "                \"paperName\": file_name,\n",
    "                \"data\": data\n",
    "            })\n",
    "\n",
    "    # 使用映射字典的中文名称为当前文件夹命名\n",
    "    folder_name = folder_mapping[str(folder_id)]\n",
    "    all_folders_data[folder_name] = folder_data\n",
    "\n",
    "# # 将所有数据保存为 JSON 格式\n",
    "output_file = './data/PaperTotalList2.json'\n",
    "with open(output_file, 'w', encoding='utf-8') as f:\n",
    "    json.dump(all_folders_data, f, ensure_ascii=False, indent=4)\n",
    "\n",
    "print(f\"保存成功，文件保存在 {output_file}\")\n"
   ],
   "id": "a52895a2586c3e3e",
   "outputs": [
    {
     "name": "stdout",
     "output_type": "stream",
     "text": [
      "保存成功，文件保存在 ./data/PaperTotalList2.json\n"
     ]
    }
   ],
   "execution_count": 6
  },
  {
   "metadata": {
    "ExecuteTime": {
     "end_time": "2024-11-07T15:33:46.446467Z",
     "start_time": "2024-11-07T15:33:44.829997Z"
    }
   },
   "cell_type": "code",
   "source": [
    "# 读取 JSON 文件\n",
    "with open('./data/PaperTotalList.json', 'r', encoding='utf-8') as f:\n",
    "    data = json.load(f)\n",
    "\n",
    "# 展平嵌套结构并转换为 DataFrame\n",
    "flattened_data = []\n",
    "\n",
    "# 遍历每个文件夹（中文名称）\n",
    "for folder_name, papers in data.items():\n",
    "    # 遍历每个文件（即paperName和data）\n",
    "    for paper in papers:\n",
    "        paper_name = paper['paperName']\n",
    "        paper_data = paper['data']\n",
    "\n",
    "        # 如果需要更复杂的结构化，可以在这里修改，譬如提取某些字段\n",
    "        for item in paper_data:\n",
    "            # 将 paper_name 和对应的 JSON 数据合并到一起\n",
    "            flattened_data.append({\n",
    "                'folderName': folder_name,  # 文件夹的中文名称\n",
    "                'paperName': paper_name,  # 文件名（paperName）\n",
    "                'data': item  # JSON 数据的具体内容\n",
    "            })\n",
    "\n",
    "# 转换为 DataFrame\n",
    "df = pd.DataFrame(flattened_data)"
   ],
   "id": "7ed5328974ede296",
   "outputs": [],
   "execution_count": 15
  },
  {
   "metadata": {},
   "cell_type": "markdown",
   "source": "<h2>生成词云图</h2>",
   "id": "4e5d711c5f4adeca"
  },
  {
   "metadata": {
    "ExecuteTime": {
     "end_time": "2024-11-07T05:44:43.190099Z",
     "start_time": "2024-11-07T05:44:43.186230Z"
    }
   },
   "cell_type": "code",
   "source": [
    "mapping = {\n",
    "    1: \"计算机体系结构并行与分布计算存储系统\",\n",
    "    2: \"计算机网络\",\n",
    "    3: \"网络与信息安全\",\n",
    "    4: \"软件工程系统软件程序设计语言\",\n",
    "    5: \"数据库数据挖掘内容检索\",\n",
    "    6: \"计算机科学理论\",\n",
    "    7: \"计算机图形学与多媒体\",\n",
    "    8: \"人工智能\",\n",
    "    9: \"人机交互与普适计算\",\n",
    "    10: \"交叉综合新兴\",\n",
    "}"
   ],
   "id": "cab3a6f0687a1cff",
   "outputs": [],
   "execution_count": 5
  },
  {
   "metadata": {
    "ExecuteTime": {
     "end_time": "2024-11-07T06:07:24.657606Z",
     "start_time": "2024-11-07T06:07:24.652438Z"
    }
   },
   "cell_type": "code",
   "source": [
    "#  导入库\n",
    "import os\n",
    "from wordcloud import WordCloud\n",
    "\n",
    "\n",
    "# 创建词云\n",
    "def handle_wordcloud(category):\n",
    "    folder_path = f'./paper_db/{category}'  # 论文数据所在的文件夹路径\n",
    "    papers_text = handle_data(folder_path)  # 获取论文标题文本\n",
    "    # 加载图片\n",
    "    # 生成词云\n",
    "    wc = WordCloud(background_color='white',  # 背景色为白色，适合学术主题\n",
    "                   colormap='Blues',  # 使用蓝色调，通常与学术风格契合\n",
    "                   max_words=1500,  # 显示最多2000个词\n",
    "                   max_font_size=100,  # 最大字体大小为100\n",
    "                   random_state=42,  # 随机种子，保证每次生成相同的结果\n",
    "                   width=900,  # 更宽的图像，以便容纳更多的词\n",
    "                   height=850,  # 合理的高度\n",
    "                   contour_color='black',  # 设置边框颜色为黑色，增加视觉对比\n",
    "                   contour_width=1,  # 细边框，使词云看起来更加精致\n",
    "                   prefer_horizontal=0.7,  # 控制水平文字的比例，稍微偏向垂直，以适应学术格式\n",
    "                   min_font_size=10,  # 设置最小字体大小，避免字体过小\n",
    "                   normalize_plurals=True,  # 合并单数和复数形式的词\n",
    "                   stopwords=None,  # 根据需要添加自定义停用词\n",
    "                   scale=3,  # 提升图像质量，适合打印或展示\n",
    "                   )\n",
    "    wc.generate(papers_text)\n",
    "    # 保存词云图片\n",
    "    wc.to_file('../assets/' + f\"{mapping[category]}.png\")\n",
    "\n",
    "\n",
    "# 数据处理函数\n",
    "def handle_data(folder_path):\n",
    "    papers_list = []\n",
    "    # 遍历文件夹中的所有文件\n",
    "    for filename in os.listdir(folder_path):\n",
    "        if filename.endswith('.json'):  # 只处理 JSON 文件\n",
    "            file_path = os.path.join(folder_path, filename)\n",
    "            with open(file_path, 'r', encoding='utf-8') as file:\n",
    "                data = json.load(file)  # 加载 JSON 数据\n",
    "                # 遍历每个条目，提取论文标题\n",
    "                for entry in data:\n",
    "                    if 'venues' in entry:\n",
    "                        for venue in entry['venues']:\n",
    "                            if 'papers' in venue:\n",
    "                                papers_list.extend(venue['papers'])\n",
    "    papers_text = \" \".join(papers_list)  # 将论文标题合并成文本\n",
    "    return papers_text\n"
   ],
   "id": "5f0d1737435c54a6",
   "outputs": [],
   "execution_count": 15
  },
  {
   "metadata": {
    "ExecuteTime": {
     "end_time": "2024-11-07T06:08:55.556127Z",
     "start_time": "2024-11-07T06:08:14.723965Z"
    }
   },
   "cell_type": "code",
   "outputs": [],
   "execution_count": 17,
   "source": [
    "# 更具文件顺序生成词云\n",
    "for category in range(1, 11):\n",
    "    handle_wordcloud(category)"
   ],
   "id": "3ad45d545e2fe469"
  },
  {
   "metadata": {},
   "cell_type": "markdown",
   "source": "<h2>修改和映射会议名称</h2>",
   "id": "aeba3553e5d59c0e"
  },
  {
   "metadata": {
    "ExecuteTime": {
     "end_time": "2024-11-08T02:24:55.177701Z",
     "start_time": "2024-11-08T02:24:55.164772Z"
    }
   },
   "cell_type": "code",
   "source": "ccf_data = pd.read_csv('./paper_db/ccf_catalog.csv')",
   "id": "13e2a44d90f63bcb",
   "outputs": [],
   "execution_count": 19
  },
  {
   "metadata": {
    "ExecuteTime": {
     "end_time": "2024-11-08T02:25:01.366834Z",
     "start_time": "2024-11-08T02:25:01.349758Z"
    }
   },
   "cell_type": "code",
   "source": "ccf_data.info()",
   "id": "7450e8db7046135b",
   "outputs": [
    {
     "name": "stdout",
     "output_type": "stream",
     "text": [
      "<class 'pandas.core.frame.DataFrame'>\n",
      "RangeIndex: 612 entries, 0 to 611\n",
      "Data columns (total 8 columns):\n",
      " #   Column     Non-Null Count  Dtype \n",
      "---  ------     --------------  ----- \n",
      " 0   id         612 non-null    int64 \n",
      " 1   abbr       612 non-null    object\n",
      " 2   name       612 non-null    object\n",
      " 3   publisher  610 non-null    object\n",
      " 4   url        612 non-null    object\n",
      " 5   rank       612 non-null    object\n",
      " 6   type       612 non-null    object\n",
      " 7   category   612 non-null    object\n",
      "dtypes: int64(1), object(7)\n",
      "memory usage: 38.4+ KB\n"
     ]
    }
   ],
   "execution_count": 20
  },
  {
   "metadata": {
    "ExecuteTime": {
     "end_time": "2024-11-08T02:21:55.429293Z",
     "start_time": "2024-11-08T02:21:55.412732Z"
    }
   },
   "cell_type": "code",
   "source": [
    "import pandas as pd\n",
    "\n",
    "\n",
    "# 定义填充函数\n",
    "def fill_abbr(row):\n",
    "    if pd.isna(row['abbr']):\n",
    "        return ''.join([word[0].upper() for word in row['name'].split() if word])  # 获取大写字母并合并\n",
    "    return row['abbr']\n",
    "\n",
    "\n",
    "# 填充缺失的 abbr\n",
    "ccf_data['abbr'] = ccf_data.apply(fill_abbr, axis=1)\n",
    "\n",
    "ccf_data.to_csv('./paper_db/ccf_catalog.csv', index=False)"
   ],
   "id": "cdb3996e7d6f1088",
   "outputs": [],
   "execution_count": 18
  },
  {
   "metadata": {},
   "cell_type": "markdown",
   "source": "<h2> 生成知识图谱</h2>",
   "id": "441ae29675c2e0f"
  },
  {
   "metadata": {},
   "cell_type": "code",
   "outputs": [],
   "execution_count": null,
   "source": [
    "folder_mapping = {\n",
    "    \"计算机体系结构/并行与分布计算/存储系统\": \"1\",\n",
    "    \"计算机网络\": \"2\",\n",
    "    \"网络与信息安全\": \"3\",\n",
    "    \"软件工程/系统软件/程序设计语言\": \"4\",\n",
    "    \"数据库/数据挖掘/内容检索\": \"5\",\n",
    "    \"计算机科学理论\": \"6\",\n",
    "    \"计算机图形学与多媒体\": \"7\",\n",
    "    \"人工智能\": \"8\",\n",
    "    \"人机交互与普适计算\": \"9\",\n",
    "    \"交叉/综合/新兴\": \"10\",\n",
    "}"
   ],
   "id": "d3cab31caf1d3a28"
  },
  {
   "metadata": {
    "ExecuteTime": {
     "end_time": "2024-12-04T13:32:46.000645Z",
     "start_time": "2024-12-04T13:32:44.099515Z"
    }
   },
   "cell_type": "code",
   "source": [
    "import json\n",
    "\n",
    "# 使用 json 库读取文件\n",
    "with open('./data/PaperTotalList.json', 'r', encoding='utf-8') as f:\n",
    "    PaperTotalList = json.load(f)\n",
    "\n",
    "# 用于存储转换后的数据\n",
    "output_data = {\n",
    "    \"nodes\": [],\n",
    "    \"edges\": []\n",
    "}\n",
    "\n",
    "# 用于跟踪ID的映射\n",
    "node_id_map = {}\n",
    "node_id_counter = 0\n",
    "\n",
    "# 遍历输入数据并构建新的结构\n",
    "for domain in PaperTotalList:\n",
    "    output_data['nodes'].append({\n",
    "        \"id\": domain,\n",
    "        \"data\": {\n",
    "            \"count\": 10000,\n",
    "            \"cluster\": node_id_counter\n",
    "        }\n",
    "    })\n",
    "    node_id_counter += 1\n",
    "    for paper in PaperTotalList[domain]: # 辨别每个领域\n",
    "        paper_name = paper['paperName']\n",
    "        paper_count = 0\n",
    "        for item in paper['data']:  # 遍历每个论文\n",
    "            if 'venues' in item:  # 处理有 venues 字段的情况\n",
    "                for venue in item['venues']: # 遍历 venues 字段\n",
    "                    if 'count' in venue:\n",
    "                        paper_count += venue['count']\n",
    "            elif 'count' in item:  # 处理没有 venues 字段的情况\n",
    "                paper_count += item['count']\n",
    "        output_data['nodes'].append({\n",
    "            \"id\": paper_name,\n",
    "            \"data\": {\n",
    "                \"count\": paper_count,\n",
    "                \"cluster\": domain\n",
    "            }\n",
    "        })\n",
    "        output_data['edges'].append({\n",
    "            \"source\": paper_name,\n",
    "            \"target\": domain\n",
    "        })\n",
    "\n",
    "\n",
    "# print(output_data['nodes'])\n",
    "# 保存为json、\n",
    "with open('KnowledgeGraph.json', 'w', encoding='utf-8') as f:\n",
    "    json.dump(output_data, f, ensure_ascii=False, indent=4)\n"
   ],
   "id": "97512b2a280904bf",
   "outputs": [],
   "execution_count": 21
  }
 ],
 "metadata": {
  "kernelspec": {
   "display_name": "Python 3",
   "language": "python",
   "name": "python3"
  },
  "language_info": {
   "codemirror_mode": {
    "name": "ipython",
    "version": 2
   },
   "file_extension": ".py",
   "mimetype": "text/x-python",
   "name": "python",
   "nbconvert_exporter": "python",
   "pygments_lexer": "ipython2",
   "version": "2.7.6"
  }
 },
 "nbformat": 4,
 "nbformat_minor": 5
}
